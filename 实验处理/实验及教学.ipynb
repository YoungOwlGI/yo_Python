{
 "cells": [
  {
   "cell_type": "markdown",
   "id": "b7f1126c41da2e87",
   "metadata": {},
   "source": [
    "# 小猫头鹰临时代码。\n",
    "\n",
    "写 input 语句时，括号内必须填入文字+冒号！！\n",
    "在OpenJudge上做的题不要留存原版。\n",
    "\n",
    "## 笔记\n",
    "\n",
    "math.factorial(n) 计算 是用来计算n的阶乘的。\n",
    "集合：\n",
    "```\n",
    "# 创建一个空集合\n",
    "empty_set = set()\n",
    "\n",
    "# 创建一个包含元素的集合\n",
    "my_set = {1, 2, 3, 4, 5}\n",
    "print(my_set)  # 输出: {1, 2, 3, 4, 5}\n",
    "```"
   ]
  },
  {
   "cell_type": "code",
   "execution_count": null,
   "id": "54a220224018f2e6",
   "metadata": {
    "ExecuteTime": {
     "end_time": "2024-10-09T14:55:11.229466Z",
     "start_time": "2024-10-09T14:55:11.217236Z"
    }
   },
   "outputs": [],
   "source": [
    "# Python程序设计与数据采集 例2.3.7_2\n",
    "from random import shuffle\n",
    "# 定义函数，用于随机打乱一个列表\n",
    "data = [1, 2, 3, 4, 5, 6, 7, 8, 9, 10, 11, 12, 13, 14, 15, 16, 17, 18, 19, 20]\n",
    "shuffle(data)\n",
    "print(data)\n",
    "reverse_data = reversed(data)\n",
    "print(reverse_data)\n",
    "print(list(reverse_data))\n",
    "print(tuple(reverse_data))\n",
    "reverse_data = reversed(data)\n",
    "print(3 in reverse_data)\n",
    "print(3 in reverse_data)\n",
    "print(10 in reverse_data)\n",
    "print(10 not in reverse_data)"
   ]
  },
  {
   "cell_type": "code",
   "id": "d2c920221e8f9494",
   "metadata": {
    "ExecuteTime": {
     "end_time": "2024-12-10T02:40:32.296733Z",
     "start_time": "2024-12-10T02:40:32.269054Z"
    }
   },
   "source": [
    "import pandas as pd\n",
    "\n",
    "# Define data for the DataFrame\n",
    "data = {\n",
    "    'Name': ['Alice', 'Bob', 'Charlie', 'David'],\n",
    "    'Age': [25, 30, 35, 40],\n",
    "    'City': ['New York', 'Delhi', 'Paris', 'Singapore'],\n",
    "    'Score': [85, 90, 95, 80]\n",
    "}\n",
    "\n",
    "# Create the DataFrame\n",
    "df = pd.DataFrame(data)\n",
    "\n",
    "# Display the DataFrame\n",
    "df"
   ],
   "outputs": [
    {
     "ename": "ModuleNotFoundError",
     "evalue": "No module named 'pandas'",
     "output_type": "error",
     "traceback": [
      "\u001B[1;31m---------------------------------------------------------------------------\u001B[0m",
      "\u001B[1;31mModuleNotFoundError\u001B[0m                       Traceback (most recent call last)",
      "Cell \u001B[1;32mIn[1], line 1\u001B[0m\n\u001B[1;32m----> 1\u001B[0m \u001B[38;5;28;01mimport\u001B[39;00m \u001B[38;5;21;01mpandas\u001B[39;00m \u001B[38;5;28;01mas\u001B[39;00m \u001B[38;5;21;01mpd\u001B[39;00m\n\u001B[0;32m      3\u001B[0m \u001B[38;5;66;03m# Define data for the DataFrame\u001B[39;00m\n\u001B[0;32m      4\u001B[0m data \u001B[38;5;241m=\u001B[39m {\n\u001B[0;32m      5\u001B[0m     \u001B[38;5;124m'\u001B[39m\u001B[38;5;124mName\u001B[39m\u001B[38;5;124m'\u001B[39m: [\u001B[38;5;124m'\u001B[39m\u001B[38;5;124mAlice\u001B[39m\u001B[38;5;124m'\u001B[39m, \u001B[38;5;124m'\u001B[39m\u001B[38;5;124mBob\u001B[39m\u001B[38;5;124m'\u001B[39m, \u001B[38;5;124m'\u001B[39m\u001B[38;5;124mCharlie\u001B[39m\u001B[38;5;124m'\u001B[39m, \u001B[38;5;124m'\u001B[39m\u001B[38;5;124mDavid\u001B[39m\u001B[38;5;124m'\u001B[39m],\n\u001B[0;32m      6\u001B[0m     \u001B[38;5;124m'\u001B[39m\u001B[38;5;124mAge\u001B[39m\u001B[38;5;124m'\u001B[39m: [\u001B[38;5;241m25\u001B[39m, \u001B[38;5;241m30\u001B[39m, \u001B[38;5;241m35\u001B[39m, \u001B[38;5;241m40\u001B[39m],\n\u001B[0;32m      7\u001B[0m     \u001B[38;5;124m'\u001B[39m\u001B[38;5;124mCity\u001B[39m\u001B[38;5;124m'\u001B[39m: [\u001B[38;5;124m'\u001B[39m\u001B[38;5;124mNew York\u001B[39m\u001B[38;5;124m'\u001B[39m, \u001B[38;5;124m'\u001B[39m\u001B[38;5;124mDelhi\u001B[39m\u001B[38;5;124m'\u001B[39m, \u001B[38;5;124m'\u001B[39m\u001B[38;5;124mParis\u001B[39m\u001B[38;5;124m'\u001B[39m, \u001B[38;5;124m'\u001B[39m\u001B[38;5;124mSingapore\u001B[39m\u001B[38;5;124m'\u001B[39m],\n\u001B[0;32m      8\u001B[0m     \u001B[38;5;124m'\u001B[39m\u001B[38;5;124mScore\u001B[39m\u001B[38;5;124m'\u001B[39m: [\u001B[38;5;241m85\u001B[39m, \u001B[38;5;241m90\u001B[39m, \u001B[38;5;241m95\u001B[39m, \u001B[38;5;241m80\u001B[39m]\n\u001B[0;32m      9\u001B[0m }\n",
      "\u001B[1;31mModuleNotFoundError\u001B[0m: No module named 'pandas'"
     ]
    }
   ],
   "execution_count": 1
  },
  {
   "cell_type": "code",
   "execution_count": null,
   "id": "8430acb392aed63f",
   "metadata": {
    "jupyter": {
     "source_hidden": true
    }
   },
   "outputs": [],
   "source": [
    "total = 0\n",
    "for i in range(2):\n",
    "    for j in range(1,3):\n",
    "        total += i + j\n",
    "print(total)\n",
    "print(False + 5 < 6)\n",
    "print(\"name\" * 10, end=\"\\n\")\n",
    "file = open(\"1.txt\")"
   ]
  },
  {
   "cell_type": "code",
   "execution_count": null,
   "id": "cdef8b6625f267fd",
   "metadata": {
    "jupyter": {
     "source_hidden": true
    }
   },
   "outputs": [],
   "source": [
    "import numpy as a\n",
    "c = a.arange(100)\n",
    "print(c)"
   ]
  },
  {
   "cell_type": "code",
   "execution_count": null,
   "id": "47fe197c2440bd9e",
   "metadata": {
    "jupyter": {
     "source_hidden": true
    }
   },
   "outputs": [],
   "source": [
    "# 计算多项式的值并保留小数点后七位\n",
    "f=input(\"请输入：\").split()\n",
    "x,a,b,c,d=float(f[0]),float(f[1]),float(f[2]),float(f[3]),float(f[4])\n",
    "if -100 <= x <= 100 and -100 <= a <= 100 and -100 <= b <= 100 and -100 <= c <= 100 and -100 <= d <= 100:\n",
    "    w=a*x**3 + b*x**2 + c*x + d\n",
    "    print(\"%1.7f\"%w)"
   ]
  },
  {
   "cell_type": "code",
   "execution_count": null,
   "id": "86a39d8e4b20ed27",
   "metadata": {
    "jupyter": {
     "source_hidden": true
    }
   },
   "outputs": [],
   "source": [
    "# 检查子串，a是否在b内\n",
    "def is_substring(s1, s2):\n",
    "    return s1 in s2\n",
    "s1 = input(\"请输入：\")\n",
    "s2 = input(\"请输入：\")\n",
    "if is_substring(s1, s2):\n",
    "    print(\"YES\")\n",
    "else:\n",
    "    print(\"NO\")"
   ]
  },
  {
   "cell_type": "code",
   "execution_count": null,
   "id": "b84e5cd7960ab273",
   "metadata": {
    "jupyter": {
     "source_hidden": true
    }
   },
   "outputs": [],
   "source": [
    "for i in range(1,10,4):\n",
    "    print(i)\n",
    "def yo(*args):\n",
    "    print(args)\n",
    "    print(type(args))\n",
    "yo = {1,\"yo\"}\n",
    "print(yo)"
   ]
  },
  {
   "cell_type": "code",
   "execution_count": null,
   "id": "445b3b74a6959c84",
   "metadata": {
    "jupyter": {
     "source_hidden": true
    }
   },
   "outputs": [],
   "source": [
    "c = {}\n",
    "c[\"liu\"] = [\"1\", \"2\", \"3\"]\n",
    "c[\"li\"] = [\"4\", \"5\", \"6\"]\n",
    "for i, u in c.items():\n",
    "    print(f\"{i}选择:{','.join(u)}\")"
   ]
  },
  {
   "cell_type": "code",
   "execution_count": null,
   "id": "e50039673e878232",
   "metadata": {
    "jupyter": {
     "source_hidden": true
    }
   },
   "outputs": [],
   "source": [
    "n = 1\n",
    "x = 0\n",
    "y = 0\n",
    "while n <= 100:\n",
    "    if n % 2 == 0:\n",
    "        x = x + n\n",
    "    else:\n",
    "        y = y + n\n",
    "    n = n + 1\n",
    "print(\"奇数的和为:\", y)\n",
    "print(\"偶数的和为:\", x)"
   ]
  },
  {
   "cell_type": "code",
   "execution_count": null,
   "id": "17f7b76bb79429b1",
   "metadata": {
    "jupyter": {
     "source_hidden": true
    }
   },
   "outputs": [],
   "source": [
    "for n in range(1, 21111):\n",
    "    if n % 5 == 5:\n",
    "        continue\n",
    "    else:\n",
    "        print(n)"
   ]
  },
  {
   "cell_type": "code",
   "execution_count": null,
   "id": "2d990a3a74723d40",
   "metadata": {
    "jupyter": {
     "source_hidden": true
    }
   },
   "outputs": [],
   "source": [
    "s = 0\n",
    "for i in range(1, 101):\n",
    "    s += i\n",
    "print(\"S=1+2+3+……+100=\", s)"
   ]
  },
  {
   "cell_type": "code",
   "execution_count": null,
   "id": "9bb21d5a70e3121e",
   "metadata": {
    "jupyter": {
     "source_hidden": true
    }
   },
   "outputs": [],
   "source": [
    "def f(x, y):\n",
    "    global b\n",
    "    b = 3\n",
    "    c = a + b\n",
    "    return c\n",
    "\n",
    "\n",
    "a = 1\n",
    "b = 2\n",
    "c = f(a, b)\n",
    "print(a, b, c)"
   ]
  },
  {
   "cell_type": "code",
   "execution_count": null,
   "id": "2a94b6750f5ee498",
   "metadata": {
    "jupyter": {
     "source_hidden": true
    }
   },
   "outputs": [],
   "source": [
    "def bubble_sort(arr):\n",
    "    n = len(arr)\n",
    "    for i in range(n):\n",
    "        for j in range(0, n-i-1):\n",
    "            if arr[j] > arr[j+1]:\n",
    "                arr[j], arr[j+1] = arr[j+1], arr[j]\n",
    "\n",
    "# 示例使用\n",
    "numbers = [64, 34, 25, 12, 22, 11, 90]\n",
    "bubble_sort(numbers)\n",
    "print(\"排序后的数组为：\", numbers)"
   ]
  },
  {
   "cell_type": "code",
   "execution_count": null,
   "id": "a57e7327999ff14f",
   "metadata": {
    "jupyter": {
     "source_hidden": true
    }
   },
   "outputs": [],
   "source": [
    "import random\n",
    "number = random.randint(1, 100)\n",
    "print(number)\n",
    "\n",
    "a = 0\n",
    "while True:\n",
    "    user = int(input(\"请输入一个数字：\"))\n",
    "    a = a + 1\n",
    "    if user > number:\n",
    "        print(\"猜大了\")\n",
    "    elif user < number:\n",
    "        print(\"猜小了\")\n",
    "    else:\n",
    "        print(\"猜对了,你猜了\"+str(a)+ \"次\")\n",
    "        break"
   ]
  },
  {
   "cell_type": "markdown",
   "id": "2f2b623b8a2ef8fe",
   "metadata": {},
   "source": [
    "## GUI界面编程"
   ]
  },
  {
   "cell_type": "code",
   "id": "96d1d33c7a6121a3",
   "metadata": {
    "ExecuteTime": {
     "end_time": "2024-12-05T08:50:41.815172Z",
     "start_time": "2024-12-05T08:48:53.530379Z"
    }
   },
   "source": [
    "import tkinter as tk\n",
    "\n",
    "app = tk.Tk()\n",
    "app.title(\"小猫头鹰的实验及教学\")\n",
    "app.geometry(\"400x300\")\n",
    "app.resizable(False, False)\n",
    "\n",
    "label = tk.Label(app, text=\"欢迎使用小猫头鹰的实验及教学！\", font=(\"Arial\", 16))\n",
    "label.pack()\n",
    "\n",
    "label2 = tk.Label(app, text=\"请选择功能：\", font=(\"Arial\", 12))\n",
    "label2.pack()\n",
    "\n",
    "# 添加输入框\n",
    "entry = tk.Entry(app, font=(\"Arial\", 12))\n",
    "entry.pack()\n",
    "\n",
    "button1 = tk.Button(app, text=\"实验一\", font=(\"Arial\", 12), command=lambda: print(\"实验一\"))\n",
    "button1.pack()\n",
    "\n",
    "button2 = tk.Button(app, text=\"实验二\", font=(\"Arial\", 12), command=lambda: print(\"实验二\"))\n",
    "button2.pack()\n",
    "\n",
    "button3 = tk.Button(app, text=\"实验三\", font=(\"Arial\", 12), command=lambda: print(\"实验三\"))\n",
    "button3.pack()\n",
    "\n",
    "button4 = tk.Button(app, text=\"实验四\", font=(\"Arial\", 12), command=lambda: print(\"实验四\"))\n",
    "button4.pack()\n",
    "\n",
    "button5 = tk.Button(app, text=\"实验五\", font=(\"Arial\", 12), command=lambda: print(\"实验五\"))\n",
    "button5.pack()\n",
    "\n",
    "app.mainloop()\n",
    "\n",
    "\n"
   ],
   "outputs": [
    {
     "name": "stdout",
     "output_type": "stream",
     "text": [
      "实验一\n",
      "实验一\n"
     ]
    }
   ],
   "execution_count": 1
  },
  {
   "cell_type": "code",
   "execution_count": null,
   "id": "c8be60201ee45d3",
   "metadata": {},
   "outputs": [],
   "source": [
    "import tkinter as tk\n",
    "\n",
    "def display_info():\n",
    "    work = entry_work.get()\n",
    "    author = entry_author.get()\n",
    "    text_info.delete('1.0', tk.END)\n",
    "    text_info.insert(tk.END, f\"作品: {work}\\n作者: {author}\")\n",
    "\n",
    "app = tk.Tk()\n",
    "app.title(\"Information Display\")\n",
    "\n",
    "tk.Label(app, text=\"作品\").pack()\n",
    "entry_work = tk.Entry(app)\n",
    "entry_work.pack()\n",
    "\n",
    "tk.Label(app, text=\"作者\").pack()\n",
    "entry_author = tk.Entry(app)\n",
    "entry_author.pack()\n",
    "\n",
    "button_read = tk.Button(app, text=\"读取信息\", command=display_info)\n",
    "button_read.pack()\n",
    "\n",
    "text_info = tk.Text(app)\n",
    "text_info.pack()\n",
    "\n",
    "button_exit = tk.Button(app, text=\"退出\", command=app.quit)\n",
    "button_exit.pack()\n",
    "\n",
    "app.mainloop()"
   ]
  }
 ],
 "metadata": {
  "kernelspec": {
   "display_name": "Python 3",
   "language": "python",
   "name": "python3"
  },
  "language_info": {
   "codemirror_mode": {
    "name": "ipython",
    "version": 3
   },
   "file_extension": ".py",
   "mimetype": "text/x-python",
   "name": "python",
   "nbconvert_exporter": "python",
   "pygments_lexer": "ipython3",
   "version": "3.11.1"
  }
 },
 "nbformat": 4,
 "nbformat_minor": 5
}
